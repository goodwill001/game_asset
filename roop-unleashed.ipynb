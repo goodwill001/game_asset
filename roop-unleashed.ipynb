{
 "cells": [
  {
   "cell_type": "markdown",
   "metadata": {
    "id": "G9BdiCppV6AS"
   },
   "source": [
    "# Colab for roop-unleashed - Gradio version\n",
    "https://github.com/C0untFloyd/roop-unleashed\n"
   ]
  },
  {
   "cell_type": "markdown",
   "metadata": {
    "id": "CanIXgLJgaOj"
   },
   "source": [
    "Install CUDA V11.8 on Google Cloud Compute"
   ]
  },
  {
   "cell_type": "code",
   "execution_count": null,
   "metadata": {
    "id": "96GE4UgYg3Ej"
   },
   "outputs": [],
   "source": [
    "!apt-get -y update\n",
    "!apt-get -y install cuda-toolkit-11-8\n",
    "import os\n",
    "os.environ[\"LD_LIBRARY_PATH\"] += \":\" + \"/usr/local/cuda-11/lib64\"\n",
    "os.environ[\"LD_LIBRARY_PATH\"] += \":\" + \"/usr/local/cuda-11.8/lib64\""
   ]
  },
  {
   "cell_type": "markdown",
   "metadata": {
    "id": "0ZYRNb0AWLLW"
   },
   "source": [
    "Installing & preparing requirements"
   ]
  },
  {
   "cell_type": "code",
   "execution_count": null,
   "metadata": {
    "id": "t1yPuhdySqCq"
   },
   "outputs": [],
   "source": [
    "!git clone https://github.com/C0untFloyd/roop-unleashed.git\n",
    "%cd roop-unleashed\n",
    "!mv config_colab.yaml config.yaml\n",
    "!pip install pip install -r requirements.txt"
   ]
  },
  {
   "cell_type": "markdown",
   "metadata": {
    "id": "u_4JQiSlV9Fi"
   },
   "source": [
    "Running roop-unleashed with default config"
   ]
  },
  {
   "cell_type": "code",
   "execution_count": 17,
   "metadata": {
    "id": "Is6U2huqSzLE"
   },
   "outputs": [
    {
     "name": "stdout",
     "output_type": "stream",
     "text": [
      "ffmpeg is not installed.\n",
      "Using provider ['CUDAExecutionProvider'] - Device:cuda\n",
      "Traceback (most recent call last):\n",
      "  File \"/teamspace/studios/this_studio/roop-unleashed/run.py\", line 6, in <module>\n",
      "    core.run()\n",
      "  File \"/teamspace/studios/this_studio/roop-unleashed/roop/core.py\", line 341, in run\n",
      "    main.run()\n",
      "  File \"/teamspace/studios/this_studio/roop-unleashed/ui/main.py\", line 56, in run\n",
      "    faceswap_tab()\n",
      "  File \"/teamspace/studios/this_studio/roop-unleashed/ui/tabs/faceswap_tab.py\", line 120, in faceswap_tab\n",
      "    max_face_distance, ui.globals.ui_blend_ratio, mask_xseg, no_face_action, autorotate, maskimage, num_swap_steps, ui.globals.ui_upscale]\n",
      "NameError: name 'mask_xseg' is not defined\n"
     ]
    }
   ],
   "source": [
    "!python run.py"
   ]
  },
  {
   "cell_type": "markdown",
   "metadata": {
    "id": "UdQ1VHdI8lCf"
   },
   "source": [
    "### Download generated images folder\n",
    "(only needed if you want to zip the generated output)"
   ]
  },
  {
   "cell_type": "code",
   "execution_count": null,
   "metadata": {},
   "outputs": [],
   "source": []
  }
 ],
 "metadata": {
  "accelerator": "GPU",
  "colab": {
   "collapsed_sections": [
    "UdQ1VHdI8lCf"
   ],
   "gpuType": "T4",
   "provenance": []
  },
  "kernelspec": {
   "display_name": "Python 3",
   "language": "python",
   "name": "python3"
  },
  "language_info": {
   "codemirror_mode": {
    "name": "ipython",
    "version": 3
   },
   "file_extension": ".py",
   "mimetype": "text/x-python",
   "name": "python",
   "nbconvert_exporter": "python",
   "pygments_lexer": "ipython3",
   "version": "3.10.10"
  }
 },
 "nbformat": 4,
 "nbformat_minor": 4
}
